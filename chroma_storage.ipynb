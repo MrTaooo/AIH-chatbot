{
 "cells": [
  {
   "cell_type": "code",
   "execution_count": 1,
   "metadata": {},
   "outputs": [],
   "source": [
    "import os\n",
    "from langchain.document_loaders import PyPDFDirectoryLoader\n",
    "from langchain.memory import ConversationBufferMemory\n",
    "from langchain.text_splitter import RecursiveCharacterTextSplitter\n",
    "from langchain.embeddings.openai import OpenAIEmbeddings\n",
    "from langchain_chroma import Chroma\n",
    "from langchain.chat_models import ChatOpenAI\n",
    "from langchain.prompts import PromptTemplate\n",
    "from langchain.chains import ConversationalRetrievalChain\n",
    "import json\n",
    "import shutil\n",
    "\n",
    "CHROMA_PATH = \"./docs/vectordb\""
   ]
  },
  {
   "cell_type": "code",
   "execution_count": 2,
   "metadata": {},
   "outputs": [],
   "source": [
    "with open('source.json', 'r') as f:\n",
    "    pdf_to_url_mapping = json.load(f)\n",
    "\n",
    "def load_documents(source_docs):\n",
    "    loader = PyPDFDirectoryLoader(source_docs)\n",
    "    pages = loader.load()\n",
    "\n",
    "    for page in pages:\n",
    "\n",
    "        pdf_name = os.path.splitext(os.path.basename(page.metadata.get('source', '')))[0]  # Get the PDF file name without extension\n",
    "        page.metadata['source'] = pdf_to_url_mapping.get(pdf_name, pdf_name)  # Use URL if available, otherwise use the file name\n",
    "\n",
    "    return pages\n",
    "\n",
    "def split_text(documents):\n",
    "    text_splitter = RecursiveCharacterTextSplitter(\n",
    "        chunk_size=300,\n",
    "        chunk_overlap=100,\n",
    "        length_function=len,\n",
    "        add_start_index=True\n",
    "    )\n",
    "\n",
    "    splits = text_splitter.split_documents(documents)\n",
    "\n",
    "    return splits\n",
    "\n",
    "def save_to_chroma(sectionName, splits):\n",
    "\n",
    "    # if os.path.exists(CHROMA_PATH):\n",
    "    #     shutil.rmtree(CHROMA_PATH)\n",
    "\n",
    "    embedding = OpenAIEmbeddings()\n",
    "    vectordb = Chroma.from_documents(\n",
    "        collection_name=sectionName,\n",
    "        documents=splits,\n",
    "        embedding=embedding,\n",
    "        persist_directory=CHROMA_PATH\n",
    "    )\n",
    "\n",
    "    print(f\"Saved {sectionName} to {CHROMA_PATH}\")\n",
    "\n",
    "    return vectordb\n"
   ]
  },
  {
   "cell_type": "code",
   "execution_count": 3,
   "metadata": {},
   "outputs": [
    {
     "name": "stderr",
     "output_type": "stream",
     "text": [
      "c:\\Python311\\Lib\\site-packages\\pypdf\\_crypt_providers\\_cryptography.py:32: CryptographyDeprecationWarning: ARC4 has been moved to cryptography.hazmat.decrepit.ciphers.algorithms.ARC4 and will be removed from this module in 48.0.0.\n",
      "  from cryptography.hazmat.primitives.ciphers.algorithms import AES, ARC4\n"
     ]
    },
    {
     "name": "stdout",
     "output_type": "stream",
     "text": [
      "Saved Living-in-Singapore to ./docs/vectordb\n",
      "Saved Working-in-Singapore to ./docs/vectordb\n",
      "Saved Health-and-Safety to ./docs/vectordb\n",
      "Saved Legal to ./docs/vectordb\n",
      "Saved Financial to ./docs/vectordb\n",
      "Saved Work-Permit to ./docs/vectordb\n",
      "Saved Salary-and-Wages to ./docs/vectordb\n",
      "Saved Help-and-Resources to ./docs/vectordb\n",
      "Saved all to ./docs/vectordb\n"
     ]
    }
   ],
   "source": [
    "sections = {\n",
    "    \"Living-in-Singapore\": {\n",
    "        \"source_docs\": \"./docs/Living-in-Singapore\",\n",
    "    },\n",
    "    \"Working-in-Singapore\": {\n",
    "        \"source_docs\": \"./docs/Working-in-Singapore\",\n",
    "    },\n",
    "    \"Health-and-Safety\": {\n",
    "        \"source_docs\": \"./docs/Health-and-Safety\",\n",
    "    },\n",
    "    \"Legal\": {\n",
    "        \"source_docs\": \"./docs/Legal\",\n",
    "    },\n",
    "    \"Financial\": {\n",
    "        \"source_docs\": \"./docs/Financial\",\n",
    "    },\n",
    "    \"Work-Permit\": {\n",
    "        \"source_docs\": \"./docs/Work-Permit\",\n",
    "    },\n",
    "    \"Salary-and-Wages\": {\n",
    "        \"source_docs\": \"./docs/Salary-and-Wages\",\n",
    "    },\n",
    "    \"Help-and-Resources\": {\n",
    "        \"source_docs\": \"./docs/Help-and-Resources\",\n",
    "    },\n",
    "    \"all\": {\n",
    "        \"source_docs\": \"./docs/all\",\n",
    "    }\n",
    "}\n",
    "\n",
    "for sectionName, section in sections.items():\n",
    "    documents = load_documents(section['source_docs'])\n",
    "    splits = split_text(documents)\n",
    "    vectordb = save_to_chroma(sectionName, splits)\n"
   ]
  },
  {
   "cell_type": "code",
   "execution_count": null,
   "metadata": {},
   "outputs": [],
   "source": [
    "persistent_client = chromadb.PersistentClient(path=\"./chroma_langchain_db\")\n",
    "# collection = persistent_client.get_or_create_collection(\"iqma_collection\")\n",
    "vector_store_from_client = Chroma(\n",
    "    client=persistent_client,\n",
    "    collection_name=\"iqma_collection\",\n",
    "    embedding_function=embeddings,\n",
    ")\n",
    "retriever = vector_store_from_client.as_retriever(\n",
    "    search_type=\"mmr\", search_kwargs={\"k\": 1, \"fetch_k\": 5}\n",
    ")"
   ]
  }
 ],
 "metadata": {
  "kernelspec": {
   "display_name": "Python 3",
   "language": "python",
   "name": "python3"
  },
  "language_info": {
   "codemirror_mode": {
    "name": "ipython",
    "version": 3
   },
   "file_extension": ".py",
   "mimetype": "text/x-python",
   "name": "python",
   "nbconvert_exporter": "python",
   "pygments_lexer": "ipython3",
   "version": "3.11.5"
  }
 },
 "nbformat": 4,
 "nbformat_minor": 2
}
