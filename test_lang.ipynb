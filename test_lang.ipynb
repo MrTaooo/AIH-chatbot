{
 "cells": [
  {
   "cell_type": "code",
   "execution_count": null,
   "metadata": {},
   "outputs": [],
   "source": [
    "import pandas as pd\n",
    "from deep_translator import GoogleTranslator\n",
    "import multi_LLM\n",
    "import multi_context\n",
    "from bot import translate_text"
   ]
  },
  {
   "cell_type": "code",
   "execution_count": null,
   "metadata": {},
   "outputs": [],
   "source": [
    "langs_dict = GoogleTranslator().get_supported_languages(as_dict=True)\n",
    "print(langs_dict)"
   ]
  },
  {
   "cell_type": "code",
   "execution_count": null,
   "metadata": {},
   "outputs": [],
   "source": [
    "langs_dict"
   ]
  },
  {
   "cell_type": "code",
   "execution_count": null,
   "metadata": {},
   "outputs": [],
   "source": [
    "def eng_multi_LLM(question):\n",
    "    response = multi_LLM.getResponse(question)\n",
    "    english_response = response[\"answer\"]\n",
    "    relevant_chunks = response[\"relevant_chunks\"]\n",
    "\n",
    "    return english_response, relevant_chunks\n",
    "\n",
    "def eng_multi_context(question):\n",
    "    response = multi_context.getResponse(question)\n",
    "    english_response = response[\"answer\"]\n",
    "    relevant_chunks = response[\"relevant_chunks\"]\n",
    "\n",
    "    return english_response, relevant_chunks\n",
    "\n",
    "def translate_multi_LLM(question, dest_language):\n",
    "    translated_question = translate_text(question, \"en\")\n",
    "    response = multi_LLM.getResponse(translated_question)\n",
    "    english_response = response[\"answer\"]\n",
    "    relevant_chunks = response[\"relevant_chunks\"]\n",
    "    translated_response = translate_text(english_response, dest_language)\n",
    "\n",
    "    return english_response, translated_response, relevant_chunks\n",
    "\n",
    "def translate_multi_context(question, dest_language):\n",
    "    translated_question = translate_text(question, \"en\")\n",
    "    response = multi_context.getResponse(translated_question)\n",
    "    english_response = response[\"answer\"]\n",
    "    relevant_chunks = response[\"relevant_chunks\"]\n",
    "    translated_response = translate_text(english_response, dest_language)\n",
    "\n",
    "    return english_response, translated_response, relevant_chunks"
   ]
  },
  {
   "cell_type": "markdown",
   "metadata": {},
   "source": [
    "# Read from File & Defining Dest Language"
   ]
  },
  {
   "cell_type": "code",
   "execution_count": null,
   "metadata": {},
   "outputs": [],
   "source": [
    "filepath = 'original'\n",
    "translated = pd.read_csv(f\"{filepath}.csv\")\n",
    "\n",
    "dest_language = 'zh-CN'"
   ]
  },
  {
   "cell_type": "code",
   "execution_count": null,
   "metadata": {},
   "outputs": [],
   "source": [
    "translated[f\"'question ({dest_language})\"] = translated['question'].apply(lambda x: translate_text(x, dest_language))"
   ]
  },
  {
   "cell_type": "markdown",
   "metadata": {},
   "source": [
    "# Multi-Context"
   ]
  },
  {
   "cell_type": "code",
   "execution_count": null,
   "metadata": {},
   "outputs": [],
   "source": [
    "# ask question in english\n",
    "translated[['multi_context answer', 'multi_context relevant chunks']] = translated['question'].apply(lambda x: pd.Series(eng_multi_context(x)))\n",
    "\n",
    "translated[['multi_context answer (english translated)', f\"multi_context answer ({dest_language})\", f\"multi_context relevant chunks ({dest_language})\"]] = translated[f\"'question ({dest_language})\"].apply(lambda x: pd.Series(translate_multi_context(x, dest_language)))"
   ]
  },
  {
   "cell_type": "markdown",
   "metadata": {},
   "source": [
    "# Multi LLM"
   ]
  },
  {
   "cell_type": "code",
   "execution_count": null,
   "metadata": {},
   "outputs": [],
   "source": [
    "# ask question in english\n",
    "translated[['multi_LLM answer', 'multi_LLM relevant chunks']] = translated['question'].apply(lambda x: pd.Series(eng_multi_LLM(x)))\n",
    "\n",
    "translated[['multi_LLM answer (english translated)', f\"multi_LLM answer ({dest_language})\", f\"multi_LLM relevant chunks ({dest_language})\"]] = translated[f\"'question ({dest_language})\"].apply(lambda x: pd.Series(translate_multi_LLM(x, dest_language)))"
   ]
  },
  {
   "cell_type": "markdown",
   "metadata": {},
   "source": [
    "# Saving File"
   ]
  },
  {
   "cell_type": "code",
   "execution_count": null,
   "metadata": {},
   "outputs": [],
   "source": [
    "translated.to_csv(f\"{filepath}_translated_{dest_language}.csv\", index=False, encoding='utf-8-sig')"
   ]
  }
 ],
 "metadata": {
  "kernelspec": {
   "display_name": "Python 3",
   "language": "python",
   "name": "python3"
  },
  "language_info": {
   "codemirror_mode": {
    "name": "ipython",
    "version": 3
   },
   "file_extension": ".py",
   "mimetype": "text/x-python",
   "name": "python",
   "nbconvert_exporter": "python",
   "pygments_lexer": "ipython3",
   "version": "3.11.5"
  }
 },
 "nbformat": 4,
 "nbformat_minor": 2
}
