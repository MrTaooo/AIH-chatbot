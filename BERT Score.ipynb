{
 "cells": [
  {
   "cell_type": "code",
   "execution_count": null,
   "id": "be5685a7-22d6-4b3a-a4b3-c5bb1b0389e6",
   "metadata": {},
   "outputs": [],
   "source": [
    "!pip install bert_score\n",
    "!pip install sacrebleu\n",
    "!pip install --upgrade openpyxl\n",
    "!pip install jieba"
   ]
  },
  {
   "cell_type": "code",
   "execution_count": 2,
   "id": "1944ea7f-caf1-4e9f-a060-93f5b23664e8",
   "metadata": {},
   "outputs": [],
   "source": [
    "from bert_score import score\n",
    "import openpyxl\n",
    "import pandas as pd\n",
    "from nltk.translate.bleu_score import sentence_bleu, SmoothingFunction\n",
    "from transformers import pipeline\n",
    "import warnings\n",
    "warnings.filterwarnings(\"ignore\")"
   ]
  },
  {
   "cell_type": "code",
   "execution_count": 3,
   "id": "6355d5d5-8011-41f0-ad22-b20cb5d0c7f3",
   "metadata": {},
   "outputs": [],
   "source": [
    "zhcn_df = pd.read_excel(\"extra_translated_zh-CN.xlsx\")"
   ]
  },
  {
   "cell_type": "code",
   "execution_count": 4,
   "id": "d38824b2-3e4b-4bee-ba21-f70de90a7fc5",
   "metadata": {},
   "outputs": [],
   "source": [
    "zhcn_df = zhcn_df[[\"multi_context answer (english translated)\", \"multi_context answer (zh-CN)\"]]\n",
    "zhcn_df = zhcn_df.rename(columns={\n",
    "    'multi_context answer (english translated)': 'eng_reference',\n",
    "    'multi_context answer (zh-CN)': 'chinese_response'\n",
    "})"
   ]
  },
  {
   "cell_type": "code",
   "execution_count": 5,
   "id": "67e87410-7c2d-44ea-ac23-69e8927bd3c9",
   "metadata": {},
   "outputs": [],
   "source": [
    "translator = pipeline(\"translation\", model=\"Helsinki-NLP/opus-mt-zh-en\")\n",
    "\n",
    "zhcn_df['translated_to_eng'] = zhcn_df['chinese_response'].apply(lambda x: translator(x)[0]['translation_text'])"
   ]
  },
  {
   "cell_type": "code",
   "execution_count": 6,
   "id": "0ab7b389-5b47-45c7-a24c-dc8386f0ce91",
   "metadata": {},
   "outputs": [
    {
     "data": {
      "text/html": [
       "<div>\n",
       "<style scoped>\n",
       "    .dataframe tbody tr th:only-of-type {\n",
       "        vertical-align: middle;\n",
       "    }\n",
       "\n",
       "    .dataframe tbody tr th {\n",
       "        vertical-align: top;\n",
       "    }\n",
       "\n",
       "    .dataframe thead th {\n",
       "        text-align: right;\n",
       "    }\n",
       "</style>\n",
       "<table border=\"1\" class=\"dataframe\">\n",
       "  <thead>\n",
       "    <tr style=\"text-align: right;\">\n",
       "      <th></th>\n",
       "      <th>eng_reference</th>\n",
       "      <th>chinese_response</th>\n",
       "      <th>translated_to_eng</th>\n",
       "    </tr>\n",
       "  </thead>\n",
       "  <tbody>\n",
       "    <tr>\n",
       "      <th>0</th>\n",
       "      <td>If you are a victim of fraud, here are some st...</td>\n",
       "      <td>如果您是诈骗的受害者，您可以采取以下一些步骤：\\n\\n1. 在线或亲自向警方报案。如果情况紧...</td>\n",
       "      <td>If your account or credit card is stolen, cont...</td>\n",
       "    </tr>\n",
       "    <tr>\n",
       "      <th>1</th>\n",
       "      <td>If you borrow money from an unlicensed moneyle...</td>\n",
       "      <td>如果您从新加坡无牌放贷人那里借钱，您可能会面临严重的处罚。您的工作许可证可能会被吊销，这意味...</td>\n",
       "      <td>If you borrow money from a non-licensed lender...</td>\n",
       "    </tr>\n",
       "    <tr>\n",
       "      <th>2</th>\n",
       "      <td>If you receive a call or text message from an ...</td>\n",
       "      <td>如果您接到来自未知号码的电话或短信，声称来自人力部或警察局等政府机构，请务必小心。不要与他们...</td>\n",
       "      <td>If you receive a telephone call or a text mess...</td>\n",
       "    </tr>\n",
       "    <tr>\n",
       "      <th>3</th>\n",
       "      <td>You can stay up to date with the latest regula...</td>\n",
       "      <td>您可以通过访问 www.gov.sg 和 www.mom.gov.sg 等官方网站来了解新加...</td>\n",
       "      <td>You can find the latest Singapore legislation ...</td>\n",
       "    </tr>\n",
       "    <tr>\n",
       "      <th>4</th>\n",
       "      <td>If you have financial difficulties, you can se...</td>\n",
       "      <td>如果您有经济困难，可以向社会及家庭发展部社会服务办公室寻求帮助。他们有一条名为 ComCar...</td>\n",
       "      <td>If you have financial difficulties, you can as...</td>\n",
       "    </tr>\n",
       "  </tbody>\n",
       "</table>\n",
       "</div>"
      ],
      "text/plain": [
       "                                       eng_reference  \\\n",
       "0  If you are a victim of fraud, here are some st...   \n",
       "1  If you borrow money from an unlicensed moneyle...   \n",
       "2  If you receive a call or text message from an ...   \n",
       "3  You can stay up to date with the latest regula...   \n",
       "4  If you have financial difficulties, you can se...   \n",
       "\n",
       "                                    chinese_response  \\\n",
       "0  如果您是诈骗的受害者，您可以采取以下一些步骤：\\n\\n1. 在线或亲自向警方报案。如果情况紧...   \n",
       "1  如果您从新加坡无牌放贷人那里借钱，您可能会面临严重的处罚。您的工作许可证可能会被吊销，这意味...   \n",
       "2  如果您接到来自未知号码的电话或短信，声称来自人力部或警察局等政府机构，请务必小心。不要与他们...   \n",
       "3  您可以通过访问 www.gov.sg 和 www.mom.gov.sg 等官方网站来了解新加...   \n",
       "4  如果您有经济困难，可以向社会及家庭发展部社会服务办公室寻求帮助。他们有一条名为 ComCar...   \n",
       "\n",
       "                                   translated_to_eng  \n",
       "0  If your account or credit card is stolen, cont...  \n",
       "1  If you borrow money from a non-licensed lender...  \n",
       "2  If you receive a telephone call or a text mess...  \n",
       "3  You can find the latest Singapore legislation ...  \n",
       "4  If you have financial difficulties, you can as...  "
      ]
     },
     "execution_count": 6,
     "metadata": {},
     "output_type": "execute_result"
    }
   ],
   "source": [
    "zhcn_df.head()"
   ]
  },
  {
   "cell_type": "code",
   "execution_count": 7,
   "id": "5fe74e70-0803-49aa-bc5d-088c13e6a2a2",
   "metadata": {},
   "outputs": [],
   "source": [
    "def calculate_bertscore_row(row):\n",
    "    P, R, F1 = score([row['translated_to_eng']], [row['eng_reference']], lang=\"en\")\n",
    "    return F1.mean().item()"
   ]
  },
  {
   "cell_type": "code",
   "execution_count": 8,
   "id": "a54000b4-e565-473f-96c2-910141566030",
   "metadata": {},
   "outputs": [
    {
     "name": "stderr",
     "output_type": "stream",
     "text": [
      "Some weights of RobertaModel were not initialized from the model checkpoint at roberta-large and are newly initialized: ['roberta.pooler.dense.bias', 'roberta.pooler.dense.weight']\n",
      "You should probably TRAIN this model on a down-stream task to be able to use it for predictions and inference.\n",
      "Some weights of RobertaModel were not initialized from the model checkpoint at roberta-large and are newly initialized: ['roberta.pooler.dense.bias', 'roberta.pooler.dense.weight']\n",
      "You should probably TRAIN this model on a down-stream task to be able to use it for predictions and inference.\n",
      "Some weights of RobertaModel were not initialized from the model checkpoint at roberta-large and are newly initialized: ['roberta.pooler.dense.bias', 'roberta.pooler.dense.weight']\n",
      "You should probably TRAIN this model on a down-stream task to be able to use it for predictions and inference.\n",
      "Some weights of RobertaModel were not initialized from the model checkpoint at roberta-large and are newly initialized: ['roberta.pooler.dense.bias', 'roberta.pooler.dense.weight']\n",
      "You should probably TRAIN this model on a down-stream task to be able to use it for predictions and inference.\n",
      "Some weights of RobertaModel were not initialized from the model checkpoint at roberta-large and are newly initialized: ['roberta.pooler.dense.bias', 'roberta.pooler.dense.weight']\n",
      "You should probably TRAIN this model on a down-stream task to be able to use it for predictions and inference.\n",
      "Some weights of RobertaModel were not initialized from the model checkpoint at roberta-large and are newly initialized: ['roberta.pooler.dense.bias', 'roberta.pooler.dense.weight']\n",
      "You should probably TRAIN this model on a down-stream task to be able to use it for predictions and inference.\n",
      "Some weights of RobertaModel were not initialized from the model checkpoint at roberta-large and are newly initialized: ['roberta.pooler.dense.bias', 'roberta.pooler.dense.weight']\n",
      "You should probably TRAIN this model on a down-stream task to be able to use it for predictions and inference.\n",
      "Some weights of RobertaModel were not initialized from the model checkpoint at roberta-large and are newly initialized: ['roberta.pooler.dense.bias', 'roberta.pooler.dense.weight']\n",
      "You should probably TRAIN this model on a down-stream task to be able to use it for predictions and inference.\n",
      "Some weights of RobertaModel were not initialized from the model checkpoint at roberta-large and are newly initialized: ['roberta.pooler.dense.bias', 'roberta.pooler.dense.weight']\n",
      "You should probably TRAIN this model on a down-stream task to be able to use it for predictions and inference.\n",
      "Some weights of RobertaModel were not initialized from the model checkpoint at roberta-large and are newly initialized: ['roberta.pooler.dense.bias', 'roberta.pooler.dense.weight']\n",
      "You should probably TRAIN this model on a down-stream task to be able to use it for predictions and inference.\n",
      "Some weights of RobertaModel were not initialized from the model checkpoint at roberta-large and are newly initialized: ['roberta.pooler.dense.bias', 'roberta.pooler.dense.weight']\n",
      "You should probably TRAIN this model on a down-stream task to be able to use it for predictions and inference.\n"
     ]
    }
   ],
   "source": [
    "zhcn_df['bert_score_f1'] = zhcn_df.apply(calculate_bertscore_row, axis=1)"
   ]
  },
  {
   "cell_type": "code",
   "execution_count": 9,
   "id": "79e69003-4e8c-4492-9969-2336d5eb2325",
   "metadata": {},
   "outputs": [
    {
     "data": {
      "text/plain": [
       "0.9396484765139493"
      ]
     },
     "execution_count": 9,
     "metadata": {},
     "output_type": "execute_result"
    }
   ],
   "source": [
    "zhcn_df['bert_score_f1'].mean()"
   ]
  },
  {
   "cell_type": "code",
   "execution_count": null,
   "id": "ea98f423-236e-4c3a-acc3-52ff685f87ca",
   "metadata": {},
   "outputs": [],
   "source": []
  },
  {
   "cell_type": "code",
   "execution_count": 12,
   "id": "4ac3f0b6-3db9-4888-a97c-763b18558929",
   "metadata": {},
   "outputs": [],
   "source": [
    "# import sacrebleu\n",
    "\n",
    "# def calculate_bleu_on_translated(row):\n",
    "#     reference = [row['eng_reference']]\n",
    "#     hypothesis = row['translated_to_eng']\n",
    "#     bleu = sacrebleu.sentence_bleu(hypothesis, reference, tokenize=\"13a\")\n",
    "#     return bleu.score\n",
    "\n",
    "# zhcn_df['bleu_score_translated'] = zhcn_df.apply(calculate_bleu_on_translated, axis=1)"
   ]
  },
  {
   "cell_type": "code",
   "execution_count": 13,
   "id": "77821595-ff8d-490b-a503-9945cb0385db",
   "metadata": {},
   "outputs": [
    {
     "data": {
      "text/plain": [
       "28.340005627114365"
      ]
     },
     "execution_count": 13,
     "metadata": {},
     "output_type": "execute_result"
    }
   ],
   "source": [
    "# zhcn_df['bleu_score_translated'].mean()"
   ]
  },
  {
   "cell_type": "code",
   "execution_count": null,
   "id": "8eb20a11-73d1-4afa-a016-5a2b095d74d6",
   "metadata": {},
   "outputs": [],
   "source": []
  }
 ],
 "metadata": {
  "kernelspec": {
   "display_name": "Python 3 (ipykernel)",
   "language": "python",
   "name": "python3"
  },
  "language_info": {
   "codemirror_mode": {
    "name": "ipython",
    "version": 3
   },
   "file_extension": ".py",
   "mimetype": "text/x-python",
   "name": "python",
   "nbconvert_exporter": "python",
   "pygments_lexer": "ipython3",
   "version": "3.11.7"
  }
 },
 "nbformat": 4,
 "nbformat_minor": 5
}
