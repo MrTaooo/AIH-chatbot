{
 "cells": [
  {
   "cell_type": "code",
   "execution_count": 12,
   "id": "047c6eed-2ccc-46f7-a58f-fa739b271434",
   "metadata": {},
   "outputs": [
    {
     "name": "stdout",
     "output_type": "stream",
     "text": [
      "Requirement already satisfied: ragas==0.1.0 in /opt/anaconda3/lib/python3.11/site-packages (0.1.0)\n",
      "Requirement already satisfied: numpy in /opt/anaconda3/lib/python3.11/site-packages (from ragas==0.1.0) (1.26.4)\n",
      "Requirement already satisfied: datasets in /opt/anaconda3/lib/python3.11/site-packages (from ragas==0.1.0) (2.21.0)\n",
      "Requirement already satisfied: tiktoken in /opt/anaconda3/lib/python3.11/site-packages (from ragas==0.1.0) (0.8.0)\n",
      "Requirement already satisfied: langchain in /opt/anaconda3/lib/python3.11/site-packages (from ragas==0.1.0) (0.0.316)\n",
      "Requirement already satisfied: langchain-core in /opt/anaconda3/lib/python3.11/site-packages (from ragas==0.1.0) (0.1.23)\n",
      "Requirement already satisfied: langchain-community in /opt/anaconda3/lib/python3.11/site-packages (from ragas==0.1.0) (0.0.20)\n",
      "Requirement already satisfied: langchain-openai in /opt/anaconda3/lib/python3.11/site-packages (from ragas==0.1.0) (0.0.6)\n",
      "Requirement already satisfied: openai>1 in /opt/anaconda3/lib/python3.11/site-packages (from ragas==0.1.0) (1.53.0)\n",
      "Requirement already satisfied: pysbd>=0.3.4 in /opt/anaconda3/lib/python3.11/site-packages (from ragas==0.1.0) (0.3.4)\n",
      "Requirement already satisfied: nest-asyncio in /opt/anaconda3/lib/python3.11/site-packages (from ragas==0.1.0) (1.6.0)\n",
      "Requirement already satisfied: appdirs in /opt/anaconda3/lib/python3.11/site-packages (from ragas==0.1.0) (1.4.4)\n",
      "Requirement already satisfied: anyio<5,>=3.5.0 in /opt/anaconda3/lib/python3.11/site-packages (from openai>1->ragas==0.1.0) (3.7.1)\n",
      "Requirement already satisfied: distro<2,>=1.7.0 in /opt/anaconda3/lib/python3.11/site-packages (from openai>1->ragas==0.1.0) (1.9.0)\n",
      "Requirement already satisfied: httpx<1,>=0.23.0 in /opt/anaconda3/lib/python3.11/site-packages (from openai>1->ragas==0.1.0) (0.27.0)\n",
      "Requirement already satisfied: jiter<1,>=0.4.0 in /opt/anaconda3/lib/python3.11/site-packages (from openai>1->ragas==0.1.0) (0.5.0)\n",
      "Requirement already satisfied: pydantic<3,>=1.9.0 in /opt/anaconda3/lib/python3.11/site-packages (from openai>1->ragas==0.1.0) (2.6.4)\n",
      "Requirement already satisfied: sniffio in /opt/anaconda3/lib/python3.11/site-packages (from openai>1->ragas==0.1.0) (1.3.1)\n",
      "Requirement already satisfied: tqdm>4 in /opt/anaconda3/lib/python3.11/site-packages (from openai>1->ragas==0.1.0) (4.66.6)\n",
      "Requirement already satisfied: typing-extensions<5,>=4.11 in /opt/anaconda3/lib/python3.11/site-packages (from openai>1->ragas==0.1.0) (4.12.2)\n",
      "Requirement already satisfied: filelock in /opt/anaconda3/lib/python3.11/site-packages (from datasets->ragas==0.1.0) (3.13.3)\n",
      "Requirement already satisfied: pyarrow>=15.0.0 in /opt/anaconda3/lib/python3.11/site-packages (from datasets->ragas==0.1.0) (17.0.0)\n",
      "Requirement already satisfied: dill<0.3.9,>=0.3.0 in /opt/anaconda3/lib/python3.11/site-packages (from datasets->ragas==0.1.0) (0.3.8)\n",
      "Requirement already satisfied: pandas in /opt/anaconda3/lib/python3.11/site-packages (from datasets->ragas==0.1.0) (2.2.3)\n",
      "Requirement already satisfied: requests>=2.32.2 in /opt/anaconda3/lib/python3.11/site-packages (from datasets->ragas==0.1.0) (2.32.3)\n",
      "Requirement already satisfied: xxhash in /opt/anaconda3/lib/python3.11/site-packages (from datasets->ragas==0.1.0) (3.5.0)\n",
      "Requirement already satisfied: multiprocess in /opt/anaconda3/lib/python3.11/site-packages (from datasets->ragas==0.1.0) (0.70.16)\n",
      "Requirement already satisfied: fsspec<=2024.6.1,>=2023.1.0 in /opt/anaconda3/lib/python3.11/site-packages (from fsspec[http]<=2024.6.1,>=2023.1.0->datasets->ragas==0.1.0) (2024.3.1)\n",
      "Requirement already satisfied: aiohttp in /opt/anaconda3/lib/python3.11/site-packages (from datasets->ragas==0.1.0) (3.9.3)\n",
      "Requirement already satisfied: huggingface-hub>=0.21.2 in /opt/anaconda3/lib/python3.11/site-packages (from datasets->ragas==0.1.0) (0.26.2)\n",
      "Requirement already satisfied: packaging in /opt/anaconda3/lib/python3.11/site-packages (from datasets->ragas==0.1.0) (23.2)\n",
      "Requirement already satisfied: pyyaml>=5.1 in /opt/anaconda3/lib/python3.11/site-packages (from datasets->ragas==0.1.0) (6.0.1)\n",
      "Requirement already satisfied: SQLAlchemy<3,>=1.4 in /opt/anaconda3/lib/python3.11/site-packages (from langchain->ragas==0.1.0) (2.0.29)\n",
      "Requirement already satisfied: dataclasses-json<0.7,>=0.5.7 in /opt/anaconda3/lib/python3.11/site-packages (from langchain->ragas==0.1.0) (0.6.4)\n",
      "Requirement already satisfied: jsonpatch<2.0,>=1.33 in /opt/anaconda3/lib/python3.11/site-packages (from langchain->ragas==0.1.0) (1.33)\n",
      "Requirement already satisfied: langsmith<0.1.0,>=0.0.43 in /opt/anaconda3/lib/python3.11/site-packages (from langchain->ragas==0.1.0) (0.0.87)\n",
      "Requirement already satisfied: tenacity<9.0.0,>=8.1.0 in /opt/anaconda3/lib/python3.11/site-packages (from langchain->ragas==0.1.0) (8.2.3)\n",
      "Requirement already satisfied: regex>=2022.1.18 in /opt/anaconda3/lib/python3.11/site-packages (from tiktoken->ragas==0.1.0) (2023.12.25)\n",
      "Requirement already satisfied: aiosignal>=1.1.2 in /opt/anaconda3/lib/python3.11/site-packages (from aiohttp->datasets->ragas==0.1.0) (1.3.1)\n",
      "Requirement already satisfied: attrs>=17.3.0 in /opt/anaconda3/lib/python3.11/site-packages (from aiohttp->datasets->ragas==0.1.0) (23.2.0)\n",
      "Requirement already satisfied: frozenlist>=1.1.1 in /opt/anaconda3/lib/python3.11/site-packages (from aiohttp->datasets->ragas==0.1.0) (1.4.1)\n",
      "Requirement already satisfied: multidict<7.0,>=4.5 in /opt/anaconda3/lib/python3.11/site-packages (from aiohttp->datasets->ragas==0.1.0) (6.0.5)\n",
      "Requirement already satisfied: yarl<2.0,>=1.0 in /opt/anaconda3/lib/python3.11/site-packages (from aiohttp->datasets->ragas==0.1.0) (1.9.4)\n",
      "Requirement already satisfied: idna>=2.8 in /opt/anaconda3/lib/python3.11/site-packages (from anyio<5,>=3.5.0->openai>1->ragas==0.1.0) (3.6)\n",
      "Requirement already satisfied: marshmallow<4.0.0,>=3.18.0 in /opt/anaconda3/lib/python3.11/site-packages (from dataclasses-json<0.7,>=0.5.7->langchain->ragas==0.1.0) (3.21.1)\n",
      "Requirement already satisfied: typing-inspect<1,>=0.4.0 in /opt/anaconda3/lib/python3.11/site-packages (from dataclasses-json<0.7,>=0.5.7->langchain->ragas==0.1.0) (0.9.0)\n",
      "Requirement already satisfied: certifi in /opt/anaconda3/lib/python3.11/site-packages (from httpx<1,>=0.23.0->openai>1->ragas==0.1.0) (2024.8.30)\n",
      "Requirement already satisfied: httpcore==1.* in /opt/anaconda3/lib/python3.11/site-packages (from httpx<1,>=0.23.0->openai>1->ragas==0.1.0) (1.0.5)\n",
      "Requirement already satisfied: h11<0.15,>=0.13 in /opt/anaconda3/lib/python3.11/site-packages (from httpcore==1.*->httpx<1,>=0.23.0->openai>1->ragas==0.1.0) (0.14.0)\n",
      "Requirement already satisfied: jsonpointer>=1.9 in /opt/anaconda3/lib/python3.11/site-packages (from jsonpatch<2.0,>=1.33->langchain->ragas==0.1.0) (2.1)\n",
      "Requirement already satisfied: annotated-types>=0.4.0 in /opt/anaconda3/lib/python3.11/site-packages (from pydantic<3,>=1.9.0->openai>1->ragas==0.1.0) (0.6.0)\n",
      "Requirement already satisfied: pydantic-core==2.16.3 in /opt/anaconda3/lib/python3.11/site-packages (from pydantic<3,>=1.9.0->openai>1->ragas==0.1.0) (2.16.3)\n",
      "Requirement already satisfied: charset-normalizer<4,>=2 in /opt/anaconda3/lib/python3.11/site-packages (from requests>=2.32.2->datasets->ragas==0.1.0) (3.3.2)\n",
      "Requirement already satisfied: urllib3<3,>=1.21.1 in /opt/anaconda3/lib/python3.11/site-packages (from requests>=2.32.2->datasets->ragas==0.1.0) (2.2.1)\n",
      "Requirement already satisfied: python-dateutil>=2.8.2 in /opt/anaconda3/lib/python3.11/site-packages (from pandas->datasets->ragas==0.1.0) (2.9.0.post0)\n",
      "Requirement already satisfied: pytz>=2020.1 in /opt/anaconda3/lib/python3.11/site-packages (from pandas->datasets->ragas==0.1.0) (2024.1)\n",
      "Requirement already satisfied: tzdata>=2022.7 in /opt/anaconda3/lib/python3.11/site-packages (from pandas->datasets->ragas==0.1.0) (2024.1)\n",
      "Requirement already satisfied: six>=1.5 in /opt/anaconda3/lib/python3.11/site-packages (from python-dateutil>=2.8.2->pandas->datasets->ragas==0.1.0) (1.16.0)\n",
      "Requirement already satisfied: mypy-extensions>=0.3.0 in /opt/anaconda3/lib/python3.11/site-packages (from typing-inspect<1,>=0.4.0->dataclasses-json<0.7,>=0.5.7->langchain->ragas==0.1.0) (1.0.0)\n",
      "\n",
      "\u001b[1m[\u001b[0m\u001b[34;49mnotice\u001b[0m\u001b[1;39;49m]\u001b[0m\u001b[39;49m A new release of pip is available: \u001b[0m\u001b[31;49m24.2\u001b[0m\u001b[39;49m -> \u001b[0m\u001b[32;49m24.3.1\u001b[0m\n",
      "\u001b[1m[\u001b[0m\u001b[34;49mnotice\u001b[0m\u001b[1;39;49m]\u001b[0m\u001b[39;49m To update, run: \u001b[0m\u001b[32;49mpip install --upgrade pip\u001b[0m\n",
      "Requirement already satisfied: ipywidgets in /opt/anaconda3/lib/python3.11/site-packages (8.1.5)\n",
      "Requirement already satisfied: comm>=0.1.3 in /opt/anaconda3/lib/python3.11/site-packages (from ipywidgets) (0.2.2)\n",
      "Requirement already satisfied: ipython>=6.1.0 in /opt/anaconda3/lib/python3.11/site-packages (from ipywidgets) (8.29.0)\n",
      "Requirement already satisfied: traitlets>=4.3.1 in /opt/anaconda3/lib/python3.11/site-packages (from ipywidgets) (5.14.3)\n",
      "Requirement already satisfied: widgetsnbextension~=4.0.12 in /opt/anaconda3/lib/python3.11/site-packages (from ipywidgets) (4.0.13)\n",
      "Requirement already satisfied: jupyterlab-widgets~=3.0.12 in /opt/anaconda3/lib/python3.11/site-packages (from ipywidgets) (3.0.13)\n",
      "Requirement already satisfied: decorator in /opt/anaconda3/lib/python3.11/site-packages (from ipython>=6.1.0->ipywidgets) (5.1.1)\n",
      "Requirement already satisfied: jedi>=0.16 in /opt/anaconda3/lib/python3.11/site-packages (from ipython>=6.1.0->ipywidgets) (0.18.1)\n",
      "Requirement already satisfied: matplotlib-inline in /opt/anaconda3/lib/python3.11/site-packages (from ipython>=6.1.0->ipywidgets) (0.1.6)\n",
      "Requirement already satisfied: prompt-toolkit<3.1.0,>=3.0.41 in /opt/anaconda3/lib/python3.11/site-packages (from ipython>=6.1.0->ipywidgets) (3.0.43)\n",
      "Requirement already satisfied: pygments>=2.4.0 in /opt/anaconda3/lib/python3.11/site-packages (from ipython>=6.1.0->ipywidgets) (2.15.1)\n",
      "Requirement already satisfied: stack-data in /opt/anaconda3/lib/python3.11/site-packages (from ipython>=6.1.0->ipywidgets) (0.6.3)\n",
      "Requirement already satisfied: typing-extensions>=4.6 in /opt/anaconda3/lib/python3.11/site-packages (from ipython>=6.1.0->ipywidgets) (4.12.2)\n",
      "Requirement already satisfied: pexpect>4.3 in /opt/anaconda3/lib/python3.11/site-packages (from ipython>=6.1.0->ipywidgets) (4.8.0)\n",
      "Requirement already satisfied: parso<0.9.0,>=0.8.0 in /opt/anaconda3/lib/python3.11/site-packages (from jedi>=0.16->ipython>=6.1.0->ipywidgets) (0.8.3)\n",
      "Requirement already satisfied: ptyprocess>=0.5 in /opt/anaconda3/lib/python3.11/site-packages (from pexpect>4.3->ipython>=6.1.0->ipywidgets) (0.7.0)\n",
      "Requirement already satisfied: wcwidth in /opt/anaconda3/lib/python3.11/site-packages (from prompt-toolkit<3.1.0,>=3.0.41->ipython>=6.1.0->ipywidgets) (0.2.5)\n",
      "Requirement already satisfied: executing>=1.2.0 in /opt/anaconda3/lib/python3.11/site-packages (from stack-data->ipython>=6.1.0->ipywidgets) (2.1.0)\n",
      "Requirement already satisfied: asttokens>=2.1.0 in /opt/anaconda3/lib/python3.11/site-packages (from stack-data->ipython>=6.1.0->ipywidgets) (2.4.1)\n",
      "Requirement already satisfied: pure-eval in /opt/anaconda3/lib/python3.11/site-packages (from stack-data->ipython>=6.1.0->ipywidgets) (0.2.2)\n",
      "Requirement already satisfied: six>=1.12.0 in /opt/anaconda3/lib/python3.11/site-packages (from asttokens>=2.1.0->stack-data->ipython>=6.1.0->ipywidgets) (1.16.0)\n",
      "\n",
      "\u001b[1m[\u001b[0m\u001b[34;49mnotice\u001b[0m\u001b[1;39;49m]\u001b[0m\u001b[39;49m A new release of pip is available: \u001b[0m\u001b[31;49m24.2\u001b[0m\u001b[39;49m -> \u001b[0m\u001b[32;49m24.3.1\u001b[0m\n",
      "\u001b[1m[\u001b[0m\u001b[34;49mnotice\u001b[0m\u001b[1;39;49m]\u001b[0m\u001b[39;49m To update, run: \u001b[0m\u001b[32;49mpip install --upgrade pip\u001b[0m\n"
     ]
    }
   ],
   "source": [
    "!pip install ragas==0.1.0\n",
    "!pip install ipywidgets"
   ]
  },
  {
   "cell_type": "code",
   "execution_count": 14,
   "id": "aef16981-94cf-40c9-b804-c7900d2429ed",
   "metadata": {},
   "outputs": [],
   "source": [
    "from datasets import Dataset\n",
    "from dotenv import load_dotenv\n",
    "from ragas import evaluate\n",
    "from ragas.metrics import (\n",
    "    faithfulness,\n",
    "    answer_relevancy,\n",
    "    context_precision,\n",
    "    context_relevancy,\n",
    "    context_recall,\n",
    "    answer_similarity,\n",
    "    answer_correctness,\n",
    ")\n",
    "import os\n",
    "import pandas as pd"
   ]
  },
  {
   "cell_type": "code",
   "execution_count": 15,
   "id": "2df70d9d-3e5d-4983-a767-831a8add230b",
   "metadata": {},
   "outputs": [
    {
     "data": {
      "text/plain": [
       "True"
      ]
     },
     "execution_count": 15,
     "metadata": {},
     "output_type": "execute_result"
    }
   ],
   "source": [
    "load_dotenv()"
   ]
  },
  {
   "cell_type": "code",
   "execution_count": 16,
   "id": "3bfef41b-8c9a-435f-8446-6dfa7cdfeece",
   "metadata": {},
   "outputs": [],
   "source": [
    "OPENAI_API_KEY = os.environ.get('OPENAI_API_KEY')"
   ]
  },
  {
   "cell_type": "code",
   "execution_count": 24,
   "id": "746d5761-2813-4261-8dcb-970269c7deea",
   "metadata": {},
   "outputs": [],
   "source": [
    "df = pd.read_csv('multi_LLM.csv')"
   ]
  },
  {
   "cell_type": "code",
   "execution_count": 25,
   "id": "cf736ad3-ee7c-4c8c-a650-a99498624253",
   "metadata": {},
   "outputs": [],
   "source": [
    "df['contexts'] = df['contexts'].apply(lambda x: [x] if isinstance(x, str) else x)"
   ]
  },
  {
   "cell_type": "code",
   "execution_count": 26,
   "id": "32890c49-7a45-4b99-8103-44de10f4f3e3",
   "metadata": {},
   "outputs": [
    {
     "data": {
      "text/plain": [
       "Dataset({\n",
       "    features: ['question', 'ground_truth', 'answer', 'contexts'],\n",
       "    num_rows: 11\n",
       "})"
      ]
     },
     "execution_count": 26,
     "metadata": {},
     "output_type": "execute_result"
    }
   ],
   "source": [
    "eval_data = Dataset.from_dict(df)\n",
    "eval_data"
   ]
  },
  {
   "cell_type": "code",
   "execution_count": 27,
   "id": "13840c04-2e5b-41a6-8dda-06518e599548",
   "metadata": {},
   "outputs": [
    {
     "data": {
      "text/html": [
       "<div>\n",
       "<style scoped>\n",
       "    .dataframe tbody tr th:only-of-type {\n",
       "        vertical-align: middle;\n",
       "    }\n",
       "\n",
       "    .dataframe tbody tr th {\n",
       "        vertical-align: top;\n",
       "    }\n",
       "\n",
       "    .dataframe thead th {\n",
       "        text-align: right;\n",
       "    }\n",
       "</style>\n",
       "<table border=\"1\" class=\"dataframe\">\n",
       "  <thead>\n",
       "    <tr style=\"text-align: right;\">\n",
       "      <th></th>\n",
       "      <th>question</th>\n",
       "      <th>ground_truth</th>\n",
       "      <th>answer</th>\n",
       "      <th>contexts</th>\n",
       "    </tr>\n",
       "  </thead>\n",
       "  <tbody>\n",
       "    <tr>\n",
       "      <th>0</th>\n",
       "      <td>Good place to send money home?</td>\n",
       "      <td>Automated Remittance Kiosk Use authorised remi...</td>\n",
       "      <td>A good place to send money home safely is thro...</td>\n",
       "      <td>[{'Remit Money Home Safely \\n• Automated Remit...</td>\n",
       "    </tr>\n",
       "    <tr>\n",
       "      <th>1</th>\n",
       "      <td>Who can help me if I cannot remit money back h...</td>\n",
       "      <td>If you are unable to send money home on your o...</td>\n",
       "      <td>If you cannot remit money back home, you can s...</td>\n",
       "      <td>[{'39\\nSeek Help\\nIf you face financial diffic...</td>\n",
       "    </tr>\n",
       "    <tr>\n",
       "      <th>2</th>\n",
       "      <td>If I am sick, what doctor can I go to?</td>\n",
       "      <td>You may go to any healthcare providers under t...</td>\n",
       "      <td>You can go to the MOM Medical Centre that you ...</td>\n",
       "      <td>[{'30\\nSEEKING MEDICAL TREATMENT\\nInform your ...</td>\n",
       "    </tr>\n",
       "    <tr>\n",
       "      <th>3</th>\n",
       "      <td>How to make claims for my workplace injury tre...</td>\n",
       "      <td>For temporary incapacity cases - report the ac...</td>\n",
       "      <td>To make claims for your workplace injury treat...</td>\n",
       "      <td>[{'4\\n5\\n6\\n7Keep records of your corresponden...</td>\n",
       "    </tr>\n",
       "    <tr>\n",
       "      <th>4</th>\n",
       "      <td>How do I renew my work permit?</td>\n",
       "      <td>To renew your work permit kindly notify your e...</td>\n",
       "      <td>To renew your work permit, you can log on to t...</td>\n",
       "      <td>[{'21\\nb)   MOM Website\\nYou can log on to the...</td>\n",
       "    </tr>\n",
       "    <tr>\n",
       "      <th>5</th>\n",
       "      <td>Will I be covered by insurance by my employer?</td>\n",
       "      <td>You will be entitled to medical insurance that...</td>\n",
       "      <td>Yes, as an employee, you will be covered by wo...</td>\n",
       "      <td>[{'Your employees must be \\ncovered under work...</td>\n",
       "    </tr>\n",
       "    <tr>\n",
       "      <th>6</th>\n",
       "      <td>Where are some places I can access support and...</td>\n",
       "      <td>You can contact the Migrant Workers’ Centre (M...</td>\n",
       "      <td>Some places you can access support and help in...</td>\n",
       "      <td>[{'- Matters relating to employment or when \\n...</td>\n",
       "    </tr>\n",
       "    <tr>\n",
       "      <th>7</th>\n",
       "      <td>Where do I go if I need access to legal servic...</td>\n",
       "      <td>If you require legal assistance or services, y...</td>\n",
       "      <td>If you need access to legal services, you can ...</td>\n",
       "      <td>[{'mislead workers into withdrawing their WICA...</td>\n",
       "    </tr>\n",
       "    <tr>\n",
       "      <th>8</th>\n",
       "      <td>What should I do if my employer deducted my sa...</td>\n",
       "      <td>Your employer can only deduct due to the follo...</td>\n",
       "      <td>If your employer has deducted your salary with...</td>\n",
       "      <td>[{'You gave written consent \\nto the deduction...</td>\n",
       "    </tr>\n",
       "    <tr>\n",
       "      <th>9</th>\n",
       "      <td>Can I do other jobs if requested by my employer?</td>\n",
       "      <td>You must only work in the occupation and for t...</td>\n",
       "      <td>No, you are not allowed to work in another occ...</td>\n",
       "      <td>[{'and overtime pay.4\\n6\\n75Your salary can on...</td>\n",
       "    </tr>\n",
       "    <tr>\n",
       "      <th>10</th>\n",
       "      <td>My employer paid me lesser than expected, when...</td>\n",
       "      <td>you can report to MOM or the Tripartite Allian...</td>\n",
       "      <td>If your employer deducted money from your sala...</td>\n",
       "      <td>[{'and overtime pay.4\\n6\\n75Your salary can on...</td>\n",
       "    </tr>\n",
       "  </tbody>\n",
       "</table>\n",
       "</div>"
      ],
      "text/plain": [
       "                                             question  \\\n",
       "0                      Good place to send money home?   \n",
       "1   Who can help me if I cannot remit money back h...   \n",
       "2              If I am sick, what doctor can I go to?   \n",
       "3   How to make claims for my workplace injury tre...   \n",
       "4                      How do I renew my work permit?   \n",
       "5      Will I be covered by insurance by my employer?   \n",
       "6   Where are some places I can access support and...   \n",
       "7   Where do I go if I need access to legal servic...   \n",
       "8   What should I do if my employer deducted my sa...   \n",
       "9    Can I do other jobs if requested by my employer?   \n",
       "10  My employer paid me lesser than expected, when...   \n",
       "\n",
       "                                         ground_truth  \\\n",
       "0   Automated Remittance Kiosk Use authorised remi...   \n",
       "1   If you are unable to send money home on your o...   \n",
       "2   You may go to any healthcare providers under t...   \n",
       "3   For temporary incapacity cases - report the ac...   \n",
       "4   To renew your work permit kindly notify your e...   \n",
       "5   You will be entitled to medical insurance that...   \n",
       "6   You can contact the Migrant Workers’ Centre (M...   \n",
       "7   If you require legal assistance or services, y...   \n",
       "8   Your employer can only deduct due to the follo...   \n",
       "9   You must only work in the occupation and for t...   \n",
       "10  you can report to MOM or the Tripartite Allian...   \n",
       "\n",
       "                                               answer  \\\n",
       "0   A good place to send money home safely is thro...   \n",
       "1   If you cannot remit money back home, you can s...   \n",
       "2   You can go to the MOM Medical Centre that you ...   \n",
       "3   To make claims for your workplace injury treat...   \n",
       "4   To renew your work permit, you can log on to t...   \n",
       "5   Yes, as an employee, you will be covered by wo...   \n",
       "6   Some places you can access support and help in...   \n",
       "7   If you need access to legal services, you can ...   \n",
       "8   If your employer has deducted your salary with...   \n",
       "9   No, you are not allowed to work in another occ...   \n",
       "10  If your employer deducted money from your sala...   \n",
       "\n",
       "                                             contexts  \n",
       "0   [{'Remit Money Home Safely \\n• Automated Remit...  \n",
       "1   [{'39\\nSeek Help\\nIf you face financial diffic...  \n",
       "2   [{'30\\nSEEKING MEDICAL TREATMENT\\nInform your ...  \n",
       "3   [{'4\\n5\\n6\\n7Keep records of your corresponden...  \n",
       "4   [{'21\\nb)   MOM Website\\nYou can log on to the...  \n",
       "5   [{'Your employees must be \\ncovered under work...  \n",
       "6   [{'- Matters relating to employment or when \\n...  \n",
       "7   [{'mislead workers into withdrawing their WICA...  \n",
       "8   [{'You gave written consent \\nto the deduction...  \n",
       "9   [{'and overtime pay.4\\n6\\n75Your salary can on...  \n",
       "10  [{'and overtime pay.4\\n6\\n75Your salary can on...  "
      ]
     },
     "execution_count": 27,
     "metadata": {},
     "output_type": "execute_result"
    }
   ],
   "source": [
    "df"
   ]
  },
  {
   "cell_type": "code",
   "execution_count": 28,
   "id": "9ff3d561-e585-4a40-93c5-b260ad788fe8",
   "metadata": {},
   "outputs": [
    {
     "data": {
      "application/vnd.jupyter.widget-view+json": {
       "model_id": "e1417db3897149aaa6f4fb5f3b68bdd3",
       "version_major": 2,
       "version_minor": 0
      },
      "text/plain": [
       "Evaluating:   0%|          | 0/77 [00:00<?, ?it/s]"
      ]
     },
     "metadata": {},
     "output_type": "display_data"
    }
   ],
   "source": [
    "result = evaluate(\n",
    "    dataset=eval_data,\n",
    "    metrics=[\n",
    "        faithfulness,\n",
    "        answer_relevancy,\n",
    "        context_precision,\n",
    "        context_relevancy,\n",
    "        context_recall,\n",
    "        answer_similarity,\n",
    "        answer_correctness,\n",
    "    ],\n",
    ")\n",
    "result = result.to_pandas()"
   ]
  },
  {
   "cell_type": "code",
   "execution_count": 48,
   "id": "5d74cba3-eb66-4b89-91d4-5015d0743a87",
   "metadata": {},
   "outputs": [
    {
     "data": {
      "text/plain": [
       "faithfulness          0.909091\n",
       "answer_relevancy      0.940446\n",
       "context_precision     0.818182\n",
       "context_relevancy     0.366047\n",
       "context_recall        0.803030\n",
       "answer_similarity     0.895716\n",
       "answer_correctness    0.387409\n",
       "dtype: float64"
      ]
     },
     "execution_count": 48,
     "metadata": {},
     "output_type": "execute_result"
    }
   ],
   "source": [
    "result[[\n",
    "        'faithfulness',\n",
    "        'answer_relevancy',\n",
    "        'context_precision',\n",
    "        'context_relevancy',\n",
    "        'context_recall',\n",
    "        'answer_similarity',\n",
    "        'answer_correctness',\n",
    "    ]].mean(axis=0)"
   ]
  },
  {
   "cell_type": "code",
   "execution_count": 43,
   "id": "eccc935d-0baa-4ee6-812e-0e9aa0b0f58e",
   "metadata": {},
   "outputs": [
    {
     "data": {
      "text/plain": [
       "0.8030303030303029"
      ]
     },
     "execution_count": 43,
     "metadata": {},
     "output_type": "execute_result"
    }
   ],
   "source": [
    "context_recall = result['context_recall'].mean()\n",
    "context_recall"
   ]
  },
  {
   "cell_type": "code",
   "execution_count": 44,
   "id": "d545615b-ad11-4b58-be5e-1cc0d1fd6f91",
   "metadata": {},
   "outputs": [
    {
     "data": {
      "text/plain": [
       "0.8181818181"
      ]
     },
     "execution_count": 44,
     "metadata": {},
     "output_type": "execute_result"
    }
   ],
   "source": [
    "context_precision = result['context_precision'].mean()\n",
    "context_precision"
   ]
  },
  {
   "cell_type": "code",
   "execution_count": 45,
   "id": "e90fd1ad-5631-4876-9dae-41d6321ea1c1",
   "metadata": {},
   "outputs": [
    {
     "data": {
      "text/plain": [
       "0.9090909090909091"
      ]
     },
     "execution_count": 45,
     "metadata": {},
     "output_type": "execute_result"
    }
   ],
   "source": [
    "faithfulness = result['faithfulness'].mean()\n",
    "faithfulness"
   ]
  },
  {
   "cell_type": "code",
   "execution_count": 46,
   "id": "0bec65d6-50e0-4266-ac9e-9ee916935be7",
   "metadata": {},
   "outputs": [
    {
     "data": {
      "text/plain": [
       "0.9404456552107162"
      ]
     },
     "execution_count": 46,
     "metadata": {},
     "output_type": "execute_result"
    }
   ],
   "source": [
    "answer_relevancy = result['answer_relevancy'].mean()\n",
    "answer_relevancy"
   ]
  },
  {
   "cell_type": "code",
   "execution_count": 47,
   "id": "5faa6243-e823-4482-a981-422197f36772",
   "metadata": {},
   "outputs": [
    {
     "data": {
      "text/plain": [
       "0.8957163553093938"
      ]
     },
     "execution_count": 47,
     "metadata": {},
     "output_type": "execute_result"
    }
   ],
   "source": [
    "answer_similarity = result['answer_similarity'].mean()\n",
    "answer_similarity"
   ]
  },
  {
   "cell_type": "code",
   "execution_count": 34,
   "id": "601cf1c6-a4d6-4e3b-9296-c58e0e7e4988",
   "metadata": {},
   "outputs": [],
   "source": [
    "result.to_csv('multi_LLM_ragas.csv', index=False)"
   ]
  },
  {
   "cell_type": "code",
   "execution_count": null,
   "id": "619192d3-72c1-4c06-8287-aa0f10175518",
   "metadata": {},
   "outputs": [],
   "source": []
  }
 ],
 "metadata": {
  "kernelspec": {
   "display_name": "Python 3 (ipykernel)",
   "language": "python",
   "name": "python3"
  },
  "language_info": {
   "codemirror_mode": {
    "name": "ipython",
    "version": 3
   },
   "file_extension": ".py",
   "mimetype": "text/x-python",
   "name": "python",
   "nbconvert_exporter": "python",
   "pygments_lexer": "ipython3",
   "version": "3.11.7"
  }
 },
 "nbformat": 4,
 "nbformat_minor": 5
}
