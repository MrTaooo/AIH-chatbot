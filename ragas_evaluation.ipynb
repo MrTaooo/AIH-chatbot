{
 "cells": [
  {
   "cell_type": "code",
   "execution_count": null,
   "id": "047c6eed-2ccc-46f7-a58f-fa739b271434",
   "metadata": {},
   "outputs": [],
   "source": [
    "!pip install ragas==0.1.0\n",
    "!pip install ipywidgets"
   ]
  },
  {
   "cell_type": "code",
   "execution_count": 15,
   "id": "aef16981-94cf-40c9-b804-c7900d2429ed",
   "metadata": {},
   "outputs": [],
   "source": [
    "from datasets import Dataset\n",
    "from dotenv import load_dotenv\n",
    "from ragas import evaluate\n",
    "from ragas.metrics import (\n",
    "    answer_similarity,\n",
    "    answer_correctness,\n",
    ")\n",
    "import os\n",
    "import pandas as pd"
   ]
  },
  {
   "cell_type": "code",
   "execution_count": 16,
   "id": "2df70d9d-3e5d-4983-a767-831a8add230b",
   "metadata": {},
   "outputs": [
    {
     "data": {
      "text/plain": [
       "True"
      ]
     },
     "execution_count": 16,
     "metadata": {},
     "output_type": "execute_result"
    }
   ],
   "source": [
    "load_dotenv()"
   ]
  },
  {
   "cell_type": "code",
   "execution_count": 17,
   "id": "3bfef41b-8c9a-435f-8446-6dfa7cdfeece",
   "metadata": {},
   "outputs": [],
   "source": [
    "OPENAI_API_KEY = os.environ.get('OPENAI_API_KEY')"
   ]
  },
  {
   "cell_type": "code",
   "execution_count": 18,
   "id": "746d5761-2813-4261-8dcb-970269c7deea",
   "metadata": {},
   "outputs": [],
   "source": [
    "df = pd.read_csv('ollama_single_LLM.csv')"
   ]
  },
  {
   "cell_type": "code",
   "execution_count": 19,
   "id": "32890c49-7a45-4b99-8103-44de10f4f3e3",
   "metadata": {},
   "outputs": [
    {
     "data": {
      "text/plain": [
       "Dataset({\n",
       "    features: ['question', 'ground_truth', 'answer'],\n",
       "    num_rows: 20\n",
       "})"
      ]
     },
     "execution_count": 19,
     "metadata": {},
     "output_type": "execute_result"
    }
   ],
   "source": [
    "eval_data = Dataset.from_dict(df)\n",
    "eval_data"
   ]
  },
  {
   "cell_type": "code",
   "execution_count": 20,
   "id": "13840c04-2e5b-41a6-8dda-06518e599548",
   "metadata": {},
   "outputs": [
    {
     "data": {
      "text/html": [
       "<div>\n",
       "<style scoped>\n",
       "    .dataframe tbody tr th:only-of-type {\n",
       "        vertical-align: middle;\n",
       "    }\n",
       "\n",
       "    .dataframe tbody tr th {\n",
       "        vertical-align: top;\n",
       "    }\n",
       "\n",
       "    .dataframe thead th {\n",
       "        text-align: right;\n",
       "    }\n",
       "</style>\n",
       "<table border=\"1\" class=\"dataframe\">\n",
       "  <thead>\n",
       "    <tr style=\"text-align: right;\">\n",
       "      <th></th>\n",
       "      <th>question</th>\n",
       "      <th>ground_truth</th>\n",
       "      <th>answer</th>\n",
       "    </tr>\n",
       "  </thead>\n",
       "  <tbody>\n",
       "    <tr>\n",
       "      <th>0</th>\n",
       "      <td>Good place to send money home?</td>\n",
       "      <td>Automated Remittance Kiosk Use authorised remi...</td>\n",
       "      <td>It is recommended to use authorized remittance...</td>\n",
       "    </tr>\n",
       "    <tr>\n",
       "      <th>1</th>\n",
       "      <td>Who can help me if I cannot remit money back h...</td>\n",
       "      <td>If you are unable to send money home on your o...</td>\n",
       "      <td>If you are unable to remit money home on your...</td>\n",
       "    </tr>\n",
       "    <tr>\n",
       "      <th>2</th>\n",
       "      <td>If I am sick, what doctor can I go to?</td>\n",
       "      <td>You may go to any healthcare providers under t...</td>\n",
       "      <td>If you are a worker in Singapore, you should v...</td>\n",
       "    </tr>\n",
       "    <tr>\n",
       "      <th>3</th>\n",
       "      <td>How to make claims for my workplace injury tre...</td>\n",
       "      <td>For temporary incapacity cases - report the ac...</td>\n",
       "      <td>To make a claim for your workplace injury trea...</td>\n",
       "    </tr>\n",
       "    <tr>\n",
       "      <th>4</th>\n",
       "      <td>How do I renew my work permit?</td>\n",
       "      <td>To renew your work permit kindly notify your e...</td>\n",
       "      <td>To renew your work permit, you don't need to ...</td>\n",
       "    </tr>\n",
       "    <tr>\n",
       "      <th>5</th>\n",
       "      <td>Will I be covered by insurance by my employer?</td>\n",
       "      <td>You will be entitled to medical insurance that...</td>\n",
       "      <td>Based on the provided context, there is no exp...</td>\n",
       "    </tr>\n",
       "    <tr>\n",
       "      <th>6</th>\n",
       "      <td>Where are some places I can access support and...</td>\n",
       "      <td>You can contact the Migrant Workers’ Centre (M...</td>\n",
       "      <td>1. Police - Dial 999 for emergencies.\\n2. Fire...</td>\n",
       "    </tr>\n",
       "    <tr>\n",
       "      <th>7</th>\n",
       "      <td>Where do I go if I need access to legal servic...</td>\n",
       "      <td>If you require legal assistance or services, y...</td>\n",
       "      <td>If you need access to legal services, you can ...</td>\n",
       "    </tr>\n",
       "    <tr>\n",
       "      <th>8</th>\n",
       "      <td>What should I do if my employer deducted my sa...</td>\n",
       "      <td>Your employer can only deduct due to the follo...</td>\n",
       "      <td>If your employer makes deductions from your sa...</td>\n",
       "    </tr>\n",
       "    <tr>\n",
       "      <th>9</th>\n",
       "      <td>Can I do other jobs if requested by my employer?</td>\n",
       "      <td>You must only work in the occupation and for t...</td>\n",
       "      <td>According to the provided context, you are onl...</td>\n",
       "    </tr>\n",
       "    <tr>\n",
       "      <th>10</th>\n",
       "      <td>My employer paid me lesser than expected, when...</td>\n",
       "      <td>you can report to MOM or the Tripartite Allian...</td>\n",
       "      <td>If your employer is deducting money from your ...</td>\n",
       "    </tr>\n",
       "    <tr>\n",
       "      <th>11</th>\n",
       "      <td>What should I do if I have been involved in a ...</td>\n",
       "      <td>You may visit this link for assistance if you ...</td>\n",
       "      <td>If you have been involved in a scam, here are ...</td>\n",
       "    </tr>\n",
       "    <tr>\n",
       "      <th>12</th>\n",
       "      <td>What are the penalties if I have borrowed mone...</td>\n",
       "      <td>\"If you have been found to have borrowed money...</td>\n",
       "      <td>If you borrow from unlicensed moneylenders in ...</td>\n",
       "    </tr>\n",
       "    <tr>\n",
       "      <th>13</th>\n",
       "      <td>What should I do if I receive a call or text m...</td>\n",
       "      <td>Should you receive such a call, it is likely t...</td>\n",
       "      <td>If you receive a call or text message from an ...</td>\n",
       "    </tr>\n",
       "    <tr>\n",
       "      <th>14</th>\n",
       "      <td>How can I keep updated with the latest rules a...</td>\n",
       "      <td>You may visit official websites such as www.go...</td>\n",
       "      <td>If you receive a call or text message from an ...</td>\n",
       "    </tr>\n",
       "    <tr>\n",
       "      <th>15</th>\n",
       "      <td>Where can I go for help if I have financial di...</td>\n",
       "      <td>You may visit the following channels if you ar...</td>\n",
       "      <td>If you receive a call or text message from an...</td>\n",
       "    </tr>\n",
       "    <tr>\n",
       "      <th>16</th>\n",
       "      <td>What happens if I am caught littering?</td>\n",
       "      <td>If you are caught littering, you will be fined...</td>\n",
       "      <td>If you are caught littering in Singapore, you ...</td>\n",
       "    </tr>\n",
       "    <tr>\n",
       "      <th>17</th>\n",
       "      <td>Are there restrictions on drinking alcohol out...</td>\n",
       "      <td>You may buy and drink alcohol outside anytime ...</td>\n",
       "      <td>Yes, in Singapore, there are restrictions on d...</td>\n",
       "    </tr>\n",
       "    <tr>\n",
       "      <th>18</th>\n",
       "      <td>How to help my friend who got scammed?</td>\n",
       "      <td>You may visit the Ant-Scam Resource Guide for ...</td>\n",
       "      <td>If your friend has been scammed, advise them t...</td>\n",
       "    </tr>\n",
       "    <tr>\n",
       "      <th>19</th>\n",
       "      <td>How can I go around Singapore by myself?</td>\n",
       "      <td>You may use the ez-link card to take bus or th...</td>\n",
       "      <td>To travel independently in Singapore, you can ...</td>\n",
       "    </tr>\n",
       "  </tbody>\n",
       "</table>\n",
       "</div>"
      ],
      "text/plain": [
       "                                             question  \\\n",
       "0                      Good place to send money home?   \n",
       "1   Who can help me if I cannot remit money back h...   \n",
       "2              If I am sick, what doctor can I go to?   \n",
       "3   How to make claims for my workplace injury tre...   \n",
       "4                      How do I renew my work permit?   \n",
       "5      Will I be covered by insurance by my employer?   \n",
       "6   Where are some places I can access support and...   \n",
       "7   Where do I go if I need access to legal servic...   \n",
       "8   What should I do if my employer deducted my sa...   \n",
       "9    Can I do other jobs if requested by my employer?   \n",
       "10  My employer paid me lesser than expected, when...   \n",
       "11  What should I do if I have been involved in a ...   \n",
       "12  What are the penalties if I have borrowed mone...   \n",
       "13  What should I do if I receive a call or text m...   \n",
       "14  How can I keep updated with the latest rules a...   \n",
       "15  Where can I go for help if I have financial di...   \n",
       "16             What happens if I am caught littering?   \n",
       "17  Are there restrictions on drinking alcohol out...   \n",
       "18             How to help my friend who got scammed?   \n",
       "19           How can I go around Singapore by myself?   \n",
       "\n",
       "                                         ground_truth  \\\n",
       "0   Automated Remittance Kiosk Use authorised remi...   \n",
       "1   If you are unable to send money home on your o...   \n",
       "2   You may go to any healthcare providers under t...   \n",
       "3   For temporary incapacity cases - report the ac...   \n",
       "4   To renew your work permit kindly notify your e...   \n",
       "5   You will be entitled to medical insurance that...   \n",
       "6   You can contact the Migrant Workers’ Centre (M...   \n",
       "7   If you require legal assistance or services, y...   \n",
       "8   Your employer can only deduct due to the follo...   \n",
       "9   You must only work in the occupation and for t...   \n",
       "10  you can report to MOM or the Tripartite Allian...   \n",
       "11  You may visit this link for assistance if you ...   \n",
       "12  \"If you have been found to have borrowed money...   \n",
       "13  Should you receive such a call, it is likely t...   \n",
       "14  You may visit official websites such as www.go...   \n",
       "15  You may visit the following channels if you ar...   \n",
       "16  If you are caught littering, you will be fined...   \n",
       "17  You may buy and drink alcohol outside anytime ...   \n",
       "18  You may visit the Ant-Scam Resource Guide for ...   \n",
       "19  You may use the ez-link card to take bus or th...   \n",
       "\n",
       "                                               answer  \n",
       "0   It is recommended to use authorized remittance...  \n",
       "1    If you are unable to remit money home on your...  \n",
       "2   If you are a worker in Singapore, you should v...  \n",
       "3   To make a claim for your workplace injury trea...  \n",
       "4    To renew your work permit, you don't need to ...  \n",
       "5   Based on the provided context, there is no exp...  \n",
       "6   1. Police - Dial 999 for emergencies.\\n2. Fire...  \n",
       "7   If you need access to legal services, you can ...  \n",
       "8   If your employer makes deductions from your sa...  \n",
       "9   According to the provided context, you are onl...  \n",
       "10  If your employer is deducting money from your ...  \n",
       "11  If you have been involved in a scam, here are ...  \n",
       "12  If you borrow from unlicensed moneylenders in ...  \n",
       "13  If you receive a call or text message from an ...  \n",
       "14  If you receive a call or text message from an ...  \n",
       "15   If you receive a call or text message from an...  \n",
       "16  If you are caught littering in Singapore, you ...  \n",
       "17  Yes, in Singapore, there are restrictions on d...  \n",
       "18  If your friend has been scammed, advise them t...  \n",
       "19  To travel independently in Singapore, you can ...  "
      ]
     },
     "execution_count": 20,
     "metadata": {},
     "output_type": "execute_result"
    }
   ],
   "source": [
    "df"
   ]
  },
  {
   "cell_type": "code",
   "execution_count": 21,
   "id": "9ff3d561-e585-4a40-93c5-b260ad788fe8",
   "metadata": {},
   "outputs": [
    {
     "data": {
      "application/vnd.jupyter.widget-view+json": {
       "model_id": "d604bd38939e4e99a57359189307dc46",
       "version_major": 2,
       "version_minor": 0
      },
      "text/plain": [
       "Evaluating:   0%|          | 0/40 [00:00<?, ?it/s]"
      ]
     },
     "metadata": {},
     "output_type": "display_data"
    }
   ],
   "source": [
    "result = evaluate(\n",
    "    dataset=eval_data,\n",
    "    metrics=[\n",
    "        answer_similarity,\n",
    "        answer_correctness,\n",
    "    ],\n",
    ")\n",
    "result = result.to_pandas()"
   ]
  },
  {
   "cell_type": "code",
   "execution_count": 23,
   "id": "5d74cba3-eb66-4b89-91d4-5015d0743a87",
   "metadata": {},
   "outputs": [
    {
     "data": {
      "text/plain": [
       "answer_similarity     0.891552\n",
       "answer_correctness    0.322149\n",
       "dtype: float64"
      ]
     },
     "execution_count": 23,
     "metadata": {},
     "output_type": "execute_result"
    }
   ],
   "source": [
    "result[[\n",
    "        'answer_similarity',\n",
    "        'answer_correctness',\n",
    "    ]].mean(axis=0)"
   ]
  },
  {
   "cell_type": "code",
   "execution_count": 24,
   "id": "601cf1c6-a4d6-4e3b-9296-c58e0e7e4988",
   "metadata": {},
   "outputs": [],
   "source": [
    "result.to_csv('ollama_single_LLM_ragas.csv', index=False)"
   ]
  },
  {
   "cell_type": "code",
   "execution_count": null,
   "id": "619192d3-72c1-4c06-8287-aa0f10175518",
   "metadata": {},
   "outputs": [],
   "source": []
  }
 ],
 "metadata": {
  "kernelspec": {
   "display_name": "Python 3 (ipykernel)",
   "language": "python",
   "name": "python3"
  },
  "language_info": {
   "codemirror_mode": {
    "name": "ipython",
    "version": 3
   },
   "file_extension": ".py",
   "mimetype": "text/x-python",
   "name": "python",
   "nbconvert_exporter": "python",
   "pygments_lexer": "ipython3",
   "version": "3.11.7"
  }
 },
 "nbformat": 4,
 "nbformat_minor": 5
}
