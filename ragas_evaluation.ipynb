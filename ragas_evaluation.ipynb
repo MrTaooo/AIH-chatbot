{
 "cells": [
  {
   "cell_type": "code",
   "execution_count": null,
   "id": "047c6eed-2ccc-46f7-a58f-fa739b271434",
   "metadata": {},
   "outputs": [],
   "source": [
    "!pip install ragas==0.1.0\n",
    "!pip install ipywidgets"
   ]
  },
  {
   "cell_type": "code",
   "execution_count": 1,
   "id": "aef16981-94cf-40c9-b804-c7900d2429ed",
   "metadata": {},
   "outputs": [],
   "source": [
    "from datasets import Dataset\n",
    "from dotenv import load_dotenv\n",
    "from ragas import evaluate\n",
    "from ragas.metrics import (\n",
    "    faithfulness,\n",
    "    answer_relevancy,\n",
    "    context_precision,\n",
    "    context_relevancy,\n",
    "    context_recall,\n",
    "    answer_similarity,\n",
    "    answer_correctness,\n",
    ")\n",
    "import os\n",
    "import pandas as pd"
   ]
  },
  {
   "cell_type": "code",
   "execution_count": 2,
   "id": "2df70d9d-3e5d-4983-a767-831a8add230b",
   "metadata": {},
   "outputs": [
    {
     "data": {
      "text/plain": [
       "True"
      ]
     },
     "execution_count": 2,
     "metadata": {},
     "output_type": "execute_result"
    }
   ],
   "source": [
    "load_dotenv()"
   ]
  },
  {
   "cell_type": "code",
   "execution_count": 3,
   "id": "3bfef41b-8c9a-435f-8446-6dfa7cdfeece",
   "metadata": {},
   "outputs": [],
   "source": [
    "OPENAI_API_KEY = os.environ.get('OPENAI_API_KEY')"
   ]
  },
  {
   "cell_type": "code",
   "execution_count": null,
   "id": "746d5761-2813-4261-8dcb-970269c7deea",
   "metadata": {},
   "outputs": [],
   "source": [
    "df = pd.read_csv('openai_multi_LLM_test.csv')"
   ]
  },
  {
   "cell_type": "code",
   "execution_count": null,
   "id": "cf736ad3-ee7c-4c8c-a650-a99498624253",
   "metadata": {},
   "outputs": [],
   "source": [
    "df['contexts'] = df['contexts'].apply(lambda x: [x] if isinstance(x, str) else x)"
   ]
  },
  {
   "cell_type": "code",
   "execution_count": null,
   "id": "32890c49-7a45-4b99-8103-44de10f4f3e3",
   "metadata": {},
   "outputs": [],
   "source": [
    "eval_data = Dataset.from_dict(df)\n",
    "eval_data"
   ]
  },
  {
   "cell_type": "code",
   "execution_count": null,
   "id": "13840c04-2e5b-41a6-8dda-06518e599548",
   "metadata": {},
   "outputs": [],
   "source": [
    "df"
   ]
  },
  {
   "cell_type": "code",
   "execution_count": null,
   "id": "9ff3d561-e585-4a40-93c5-b260ad788fe8",
   "metadata": {},
   "outputs": [],
   "source": [
    "result = evaluate(\n",
    "    dataset=eval_data,\n",
    "    metrics=[\n",
    "        faithfulness,\n",
    "        answer_relevancy,\n",
    "        context_precision,\n",
    "        context_relevancy,\n",
    "        context_recall,\n",
    "        answer_similarity,\n",
    "        answer_correctness,\n",
    "    ],\n",
    ")\n",
    "result = result.to_pandas()"
   ]
  },
  {
   "cell_type": "code",
   "execution_count": null,
   "id": "eccc935d-0baa-4ee6-812e-0e9aa0b0f58e",
   "metadata": {},
   "outputs": [],
   "source": [
    "result"
   ]
  },
  {
   "cell_type": "code",
   "execution_count": null,
   "id": "71593f2b-95f2-445e-bf4b-1e7b10241ae3",
   "metadata": {},
   "outputs": [],
   "source": [
    "pd.set_option(\"display.max_colwidth\", 300)\n",
    "result[[\"question\", \"contexts\", \"answer\", \"context_recall\"]]"
   ]
  },
  {
   "cell_type": "code",
   "execution_count": null,
   "id": "e0e703f0-3142-4db1-a555-f4fd05ead444",
   "metadata": {},
   "outputs": [],
   "source": [
    "pd.set_option(\"display.max_colwidth\", 300)\n",
    "result[[\"question\", \"contexts\", \"answer\", \"context_precision\"]]"
   ]
  },
  {
   "cell_type": "code",
   "execution_count": null,
   "id": "601cf1c6-a4d6-4e3b-9296-c58e0e7e4988",
   "metadata": {},
   "outputs": [],
   "source": [
    "result.to_csv('openai_multi_LLM_ragas.csv')"
   ]
  },
  {
   "cell_type": "code",
   "execution_count": null,
   "id": "619192d3-72c1-4c06-8287-aa0f10175518",
   "metadata": {},
   "outputs": [],
   "source": []
  }
 ],
 "metadata": {
  "kernelspec": {
   "display_name": "Python 3 (ipykernel)",
   "language": "python",
   "name": "python3"
  },
  "language_info": {
   "codemirror_mode": {
    "name": "ipython",
    "version": 3
   },
   "file_extension": ".py",
   "mimetype": "text/x-python",
   "name": "python",
   "nbconvert_exporter": "python",
   "pygments_lexer": "ipython3",
   "version": "3.11.7"
  }
 },
 "nbformat": 4,
 "nbformat_minor": 5
}
