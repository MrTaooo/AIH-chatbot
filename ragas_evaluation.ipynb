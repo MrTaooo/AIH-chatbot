{
 "cells": [
  {
   "cell_type": "code",
   "execution_count": null,
   "id": "047c6eed-2ccc-46f7-a58f-fa739b271434",
   "metadata": {},
   "outputs": [],
   "source": [
    "!pip install ragas==0.1.0\n",
    "!pip install ipywidgets"
   ]
  },
  {
   "cell_type": "code",
   "execution_count": 2,
   "id": "aef16981-94cf-40c9-b804-c7900d2429ed",
   "metadata": {},
   "outputs": [],
   "source": [
    "from datasets import Dataset\n",
    "from dotenv import load_dotenv\n",
    "from ragas import evaluate\n",
    "from ragas.metrics import (\n",
    "    answer_similarity,\n",
    "    answer_correctness,\n",
    ")\n",
    "import os\n",
    "import pandas as pd"
   ]
  },
  {
   "cell_type": "code",
   "execution_count": 3,
   "id": "2df70d9d-3e5d-4983-a767-831a8add230b",
   "metadata": {},
   "outputs": [
    {
     "data": {
      "text/plain": [
       "True"
      ]
     },
     "execution_count": 3,
     "metadata": {},
     "output_type": "execute_result"
    }
   ],
   "source": [
    "load_dotenv()"
   ]
  },
  {
   "cell_type": "code",
   "execution_count": 4,
   "id": "3bfef41b-8c9a-435f-8446-6dfa7cdfeece",
   "metadata": {},
   "outputs": [],
   "source": [
    "OPENAI_API_KEY = os.environ.get('OPENAI_API_KEY')"
   ]
  },
  {
   "cell_type": "code",
   "execution_count": 7,
   "id": "746d5761-2813-4261-8dcb-970269c7deea",
   "metadata": {},
   "outputs": [],
   "source": [
    "# df = pd.read_csv('single_LLM.csv')\n",
    "df = pd.read_csv('ollama_multi_llm.csv')"
   ]
  },
  {
   "cell_type": "code",
   "execution_count": 8,
   "id": "32890c49-7a45-4b99-8103-44de10f4f3e3",
   "metadata": {},
   "outputs": [
    {
     "data": {
      "text/plain": [
       "Dataset({\n",
       "    features: ['question', 'ground_truth', 'answer'],\n",
       "    num_rows: 20\n",
       "})"
      ]
     },
     "execution_count": 8,
     "metadata": {},
     "output_type": "execute_result"
    }
   ],
   "source": [
    "eval_data = Dataset.from_dict(df)\n",
    "eval_data"
   ]
  },
  {
   "cell_type": "code",
   "execution_count": 9,
   "id": "13840c04-2e5b-41a6-8dda-06518e599548",
   "metadata": {},
   "outputs": [
    {
     "data": {
      "text/html": [
       "<div>\n",
       "<style scoped>\n",
       "    .dataframe tbody tr th:only-of-type {\n",
       "        vertical-align: middle;\n",
       "    }\n",
       "\n",
       "    .dataframe tbody tr th {\n",
       "        vertical-align: top;\n",
       "    }\n",
       "\n",
       "    .dataframe thead th {\n",
       "        text-align: right;\n",
       "    }\n",
       "</style>\n",
       "<table border=\"1\" class=\"dataframe\">\n",
       "  <thead>\n",
       "    <tr style=\"text-align: right;\">\n",
       "      <th></th>\n",
       "      <th>question</th>\n",
       "      <th>ground_truth</th>\n",
       "      <th>answer</th>\n",
       "    </tr>\n",
       "  </thead>\n",
       "  <tbody>\n",
       "    <tr>\n",
       "      <th>0</th>\n",
       "      <td>Good place to send money home?</td>\n",
       "      <td>Automated Remittance Kiosk Use authorised remi...</td>\n",
       "      <td>Some good places for migrant workers to send m...</td>\n",
       "    </tr>\n",
       "    <tr>\n",
       "      <th>1</th>\n",
       "      <td>Who can help me if I cannot remit money back h...</td>\n",
       "      <td>If you are unable to send money home on your o...</td>\n",
       "      <td>Organizations that may help you if you cannot ...</td>\n",
       "    </tr>\n",
       "    <tr>\n",
       "      <th>2</th>\n",
       "      <td>If I am sick, what doctor can I go to?</td>\n",
       "      <td>You may go to any healthcare providers under t...</td>\n",
       "      <td>To find a doctor if you are sick, I recommend ...</td>\n",
       "    </tr>\n",
       "    <tr>\n",
       "      <th>3</th>\n",
       "      <td>How to make claims for my workplace injury tre...</td>\n",
       "      <td>For temporary incapacity cases - report the ac...</td>\n",
       "      <td>To claim for workplace injury treatment as a m...</td>\n",
       "    </tr>\n",
       "    <tr>\n",
       "      <th>4</th>\n",
       "      <td>How do I renew my work permit?</td>\n",
       "      <td>To renew your work permit kindly notify your e...</td>\n",
       "      <td>The process for renewing a work permit varies ...</td>\n",
       "    </tr>\n",
       "    <tr>\n",
       "      <th>5</th>\n",
       "      <td>Will I be covered by insurance by my employer?</td>\n",
       "      <td>You will be entitled to medical insurance that...</td>\n",
       "      <td>The answer depends on the specific policies of...</td>\n",
       "    </tr>\n",
       "    <tr>\n",
       "      <th>6</th>\n",
       "      <td>Where are some places I can access support and...</td>\n",
       "      <td>You can contact the Migrant Workers’ Centre (M...</td>\n",
       "      <td>Based on the parsed PDF document, here are som...</td>\n",
       "    </tr>\n",
       "    <tr>\n",
       "      <th>7</th>\n",
       "      <td>Where do I go if I need access to legal servic...</td>\n",
       "      <td>If you require legal assistance or services, y...</td>\n",
       "      <td>[The response from the tool (In the same langu...</td>\n",
       "    </tr>\n",
       "    <tr>\n",
       "      <th>8</th>\n",
       "      <td>What should I do if my employer deducted my sa...</td>\n",
       "      <td>Your employer can only deduct due to the follo...</td>\n",
       "      <td>As a migrant worker, if your employer deducts ...</td>\n",
       "    </tr>\n",
       "    <tr>\n",
       "      <th>9</th>\n",
       "      <td>Can I do other jobs if requested by my employer?</td>\n",
       "      <td>You must only work in the occupation and for t...</td>\n",
       "      <td>NIL</td>\n",
       "    </tr>\n",
       "    <tr>\n",
       "      <th>10</th>\n",
       "      <td>My employer paid me lesser than expected, when...</td>\n",
       "      <td>you can report to MOM or the Tripartite Allian...</td>\n",
       "      <td>As a migrant worker, you have the right to rec...</td>\n",
       "    </tr>\n",
       "    <tr>\n",
       "      <th>11</th>\n",
       "      <td>What should I do if I have been involved in a ...</td>\n",
       "      <td>You may visit this link for assistance if you ...</td>\n",
       "      <td>After being involved in a scam, it is importan...</td>\n",
       "    </tr>\n",
       "    <tr>\n",
       "      <th>12</th>\n",
       "      <td>What are the penalties if I have borrowed mone...</td>\n",
       "      <td>\"If you have been found to have borrowed money...</td>\n",
       "      <td>The penalties for borrowing money from unlicen...</td>\n",
       "    </tr>\n",
       "    <tr>\n",
       "      <th>13</th>\n",
       "      <td>What should I do if I receive a call or text m...</td>\n",
       "      <td>Should you receive such a call, it is likely t...</td>\n",
       "      <td>If you receive a call or text message from an ...</td>\n",
       "    </tr>\n",
       "    <tr>\n",
       "      <th>14</th>\n",
       "      <td>How can I keep updated with the latest rules a...</td>\n",
       "      <td>You may visit official websites such as www.go...</td>\n",
       "      <td>To stay updated with the latest rules and regu...</td>\n",
       "    </tr>\n",
       "    <tr>\n",
       "      <th>15</th>\n",
       "      <td>Where can I go for help if I have financial di...</td>\n",
       "      <td>You may visit the following channels if you ar...</td>\n",
       "      <td>NIL</td>\n",
       "    </tr>\n",
       "    <tr>\n",
       "      <th>16</th>\n",
       "      <td>Are there restrictions on drinking alcohol out...</td>\n",
       "      <td>You may buy and drink alcohol outside anytime ...</td>\n",
       "      <td>NIL</td>\n",
       "    </tr>\n",
       "    <tr>\n",
       "      <th>17</th>\n",
       "      <td>Are there restrictions on drinking alcohol out...</td>\n",
       "      <td>You may buy and drink alcohol outside anytime ...</td>\n",
       "      <td>The restrictions on drinking alcohol outside f...</td>\n",
       "    </tr>\n",
       "    <tr>\n",
       "      <th>18</th>\n",
       "      <td>How to help my friend who got scammed?</td>\n",
       "      <td>You may visit the Ant-Scam Resource Guide for ...</td>\n",
       "      <td>I cannot provide specific advice on helping so...</td>\n",
       "    </tr>\n",
       "    <tr>\n",
       "      <th>19</th>\n",
       "      <td>How can I go around Singapore by myself?</td>\n",
       "      <td>You may use the ez-link card to take bus or th...</td>\n",
       "      <td>In Singapore, you can get around easily by usi...</td>\n",
       "    </tr>\n",
       "  </tbody>\n",
       "</table>\n",
       "</div>"
      ],
      "text/plain": [
       "                                             question  \\\n",
       "0                      Good place to send money home?   \n",
       "1   Who can help me if I cannot remit money back h...   \n",
       "2              If I am sick, what doctor can I go to?   \n",
       "3   How to make claims for my workplace injury tre...   \n",
       "4                      How do I renew my work permit?   \n",
       "5      Will I be covered by insurance by my employer?   \n",
       "6   Where are some places I can access support and...   \n",
       "7   Where do I go if I need access to legal servic...   \n",
       "8   What should I do if my employer deducted my sa...   \n",
       "9    Can I do other jobs if requested by my employer?   \n",
       "10  My employer paid me lesser than expected, when...   \n",
       "11  What should I do if I have been involved in a ...   \n",
       "12  What are the penalties if I have borrowed mone...   \n",
       "13  What should I do if I receive a call or text m...   \n",
       "14  How can I keep updated with the latest rules a...   \n",
       "15  Where can I go for help if I have financial di...   \n",
       "16  Are there restrictions on drinking alcohol out...   \n",
       "17  Are there restrictions on drinking alcohol out...   \n",
       "18             How to help my friend who got scammed?   \n",
       "19           How can I go around Singapore by myself?   \n",
       "\n",
       "                                         ground_truth  \\\n",
       "0   Automated Remittance Kiosk Use authorised remi...   \n",
       "1   If you are unable to send money home on your o...   \n",
       "2   You may go to any healthcare providers under t...   \n",
       "3   For temporary incapacity cases - report the ac...   \n",
       "4   To renew your work permit kindly notify your e...   \n",
       "5   You will be entitled to medical insurance that...   \n",
       "6   You can contact the Migrant Workers’ Centre (M...   \n",
       "7   If you require legal assistance or services, y...   \n",
       "8   Your employer can only deduct due to the follo...   \n",
       "9   You must only work in the occupation and for t...   \n",
       "10  you can report to MOM or the Tripartite Allian...   \n",
       "11  You may visit this link for assistance if you ...   \n",
       "12  \"If you have been found to have borrowed money...   \n",
       "13  Should you receive such a call, it is likely t...   \n",
       "14  You may visit official websites such as www.go...   \n",
       "15  You may visit the following channels if you ar...   \n",
       "16  You may buy and drink alcohol outside anytime ...   \n",
       "17  You may buy and drink alcohol outside anytime ...   \n",
       "18  You may visit the Ant-Scam Resource Guide for ...   \n",
       "19  You may use the ez-link card to take bus or th...   \n",
       "\n",
       "                                               answer  \n",
       "0   Some good places for migrant workers to send m...  \n",
       "1   Organizations that may help you if you cannot ...  \n",
       "2   To find a doctor if you are sick, I recommend ...  \n",
       "3   To claim for workplace injury treatment as a m...  \n",
       "4   The process for renewing a work permit varies ...  \n",
       "5   The answer depends on the specific policies of...  \n",
       "6   Based on the parsed PDF document, here are som...  \n",
       "7   [The response from the tool (In the same langu...  \n",
       "8   As a migrant worker, if your employer deducts ...  \n",
       "9                                                 NIL  \n",
       "10  As a migrant worker, you have the right to rec...  \n",
       "11  After being involved in a scam, it is importan...  \n",
       "12  The penalties for borrowing money from unlicen...  \n",
       "13  If you receive a call or text message from an ...  \n",
       "14  To stay updated with the latest rules and regu...  \n",
       "15                                                NIL  \n",
       "16                                                NIL  \n",
       "17  The restrictions on drinking alcohol outside f...  \n",
       "18  I cannot provide specific advice on helping so...  \n",
       "19  In Singapore, you can get around easily by usi...  "
      ]
     },
     "execution_count": 9,
     "metadata": {},
     "output_type": "execute_result"
    }
   ],
   "source": [
    "df"
   ]
  },
  {
   "cell_type": "code",
   "execution_count": 10,
   "id": "9ff3d561-e585-4a40-93c5-b260ad788fe8",
   "metadata": {},
   "outputs": [
    {
     "data": {
      "application/vnd.jupyter.widget-view+json": {
       "model_id": "b503868525014b8caf5577fa1c74d57c",
       "version_major": 2,
       "version_minor": 0
      },
      "text/plain": [
       "Evaluating:   0%|          | 0/40 [00:00<?, ?it/s]"
      ]
     },
     "metadata": {},
     "output_type": "display_data"
    }
   ],
   "source": [
    "result = evaluate(\n",
    "    dataset=eval_data,\n",
    "    metrics=[\n",
    "        answer_similarity,\n",
    "        answer_correctness,\n",
    "    ],\n",
    ")\n",
    "result = result.to_pandas()"
   ]
  },
  {
   "cell_type": "code",
   "execution_count": 11,
   "id": "5d74cba3-eb66-4b89-91d4-5015d0743a87",
   "metadata": {},
   "outputs": [
    {
     "data": {
      "text/plain": [
       "answer_similarity     0.834388\n",
       "answer_correctness    0.284116\n",
       "dtype: float64"
      ]
     },
     "execution_count": 11,
     "metadata": {},
     "output_type": "execute_result"
    }
   ],
   "source": [
    "result[[\n",
    "        'answer_similarity',\n",
    "        'answer_correctness',\n",
    "    ]].mean(axis=0)"
   ]
  },
  {
   "cell_type": "code",
   "execution_count": 14,
   "id": "601cf1c6-a4d6-4e3b-9296-c58e0e7e4988",
   "metadata": {},
   "outputs": [],
   "source": [
    "result.to_csv('ollama_multi_llm_ragas.csv', index=False)\n",
    "# result.to_csv('multi_LLM_ragas.csv', index=False)"
   ]
  },
  {
   "cell_type": "code",
   "execution_count": null,
   "id": "619192d3-72c1-4c06-8287-aa0f10175518",
   "metadata": {},
   "outputs": [],
   "source": []
  }
 ],
 "metadata": {
  "kernelspec": {
   "display_name": "Python 3 (ipykernel)",
   "language": "python",
   "name": "python3"
  },
  "language_info": {
   "codemirror_mode": {
    "name": "ipython",
    "version": 3
   },
   "file_extension": ".py",
   "mimetype": "text/x-python",
   "name": "python",
   "nbconvert_exporter": "python",
   "pygments_lexer": "ipython3",
   "version": "3.11.7"
  }
 },
 "nbformat": 4,
 "nbformat_minor": 5
}
